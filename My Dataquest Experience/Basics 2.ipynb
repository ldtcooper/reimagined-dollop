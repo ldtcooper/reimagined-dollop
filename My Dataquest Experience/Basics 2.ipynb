{
 "cells": [
  {
   "cell_type": "code",
   "execution_count": 2,
   "metadata": {
    "collapsed": false
   },
   "outputs": [
    {
     "name": "stdout",
     "output_type": "stream",
     "text": [
      "['year,month,date_of_month,day_of_week,births', '1994,1,1,6,8096', '1994,1,2,7,7772', '1994,1,3,1,10142', '1994,1,4,2,11248', '1994,1,5,3,11053', '1994,1,6,4,11406', '1994,1,7,5,11251', '1994,1,8,6,8653', '1994,1,9,7,7910']\n"
     ]
    }
   ],
   "source": [
    "# Example to make sure read_csv works correctly\n",
    "births_list = open(\"US_births_1994-2003_CDC_NCHS.csv\").read().split(\"\\n\")\n",
    "print(births_list[:10])"
   ]
  },
  {
   "cell_type": "code",
   "execution_count": 3,
   "metadata": {
    "collapsed": false
   },
   "outputs": [
    {
     "name": "stdout",
     "output_type": "stream",
     "text": [
      "[[1994, 1, 1, 6, 8096], [1994, 1, 2, 7, 7772], [1994, 1, 3, 1, 10142], [1994, 1, 4, 2, 11248], [1994, 1, 5, 3, 11053], [1994, 1, 6, 4, 11406], [1994, 1, 7, 5, 11251], [1994, 1, 8, 6, 8653], [1994, 1, 9, 7, 7910], [1994, 1, 10, 1, 10498]]\n"
     ]
    }
   ],
   "source": [
    "def read_csv(filename):\n",
    "    '''Opens and reads a .csv and turns it into a tokenized list'''\n",
    "    # turns the csv into a list of strings\n",
    "    string_list = open(filename).read().split(\"\\n\")\n",
    "    # removes header row\n",
    "    string_list.pop(0)\n",
    "    # empty list to be appended to later\n",
    "    final_list = []\n",
    "    # loop to convert a list of strings into a list of lists of integers\n",
    "    for elem in string_list:\n",
    "        int_fields = []\n",
    "        # splits each list element into a list\n",
    "        string_fields = elem.split(',')\n",
    "        # turns each of those lists into lists of integers\n",
    "        for elem in string_fields:\n",
    "            int_fields.append(int(elem))\n",
    "        final_list.append(int_fields)\n",
    "    return final_list\n",
    "\n",
    "# carries out function on our births dataset\n",
    "cdc_list = read_csv(\"US_births_1994-2003_CDC_NCHS.csv\")\n",
    "# tests for functionality\n",
    "print(cdc_list[:10])"
   ]
  },
  {
   "cell_type": "code",
   "execution_count": 4,
   "metadata": {
    "collapsed": false
   },
   "outputs": [
    {
     "name": "stdout",
     "output_type": "stream",
     "text": [
      "{1: 3232517, 2: 3018140, 3: 3322069, 4: 3185314, 5: 3350907, 6: 3296530, 7: 3498783, 8: 3525858, 9: 3439698, 10: 3378814, 11: 3171647, 12: 3301860}\n"
     ]
    }
   ],
   "source": [
    "def month_births(list_data):\n",
    "    '''Takes the list data from read_csv and returns a dictionary with how many people were born in each month'''\n",
    "    births_per_month = {}\n",
    "    # iterates over the list to add up births per month in a dictionary\n",
    "    for elem in list_data:\n",
    "        # item 1 = month; item 4 is births\n",
    "        if elem[1] not in births_per_month:\n",
    "            births_per_month[elem[1]] = elem[4]\n",
    "        else:\n",
    "            births_per_month[elem[1]] += elem[4]\n",
    "    return births_per_month\n",
    "\n",
    "\n",
    "cdc_months_births = month_births(cdc_list)\n",
    "print(cdc_months_births)"
   ]
  },
  {
   "cell_type": "code",
   "execution_count": 5,
   "metadata": {
    "collapsed": false
   },
   "outputs": [
    {
     "name": "stdout",
     "output_type": "stream",
     "text": [
      "{1: 5789166, 2: 6446196, 3: 6322855, 4: 6288429, 5: 6233657, 6: 4562111, 7: 4079723}\n"
     ]
    }
   ],
   "source": [
    "def dow_births(list_data):\n",
    "    '''Takes the list data from read_csv and returns a dictionary with how many births there were on each day of the week'''\n",
    "    births_per_weekday = {}\n",
    "    # iterates over the lists to add up births for each weekday\n",
    "    for elem in list_data:\n",
    "        # item 3 = day of week; item 4 = births\n",
    "        if elem[3] not in births_per_weekday:\n",
    "            births_per_weekday[elem[3]] = elem[4]\n",
    "        else:\n",
    "            births_per_weekday[elem[3]] += elem[4]\n",
    "    return births_per_weekday\n",
    "\n",
    "cdc_day_births = dow_births(cdc_list)\n",
    "print(cdc_day_births)"
   ]
  },
  {
   "cell_type": "code",
   "execution_count": 6,
   "metadata": {
    "collapsed": false
   },
   "outputs": [
    {
     "name": "stdout",
     "output_type": "stream",
     "text": [
      "{2000: 4058814, 2001: 4025933, 2002: 4021726, 2003: 4089950, 1994: 3952767, 1995: 3899589, 1996: 3891494, 1997: 3880894, 1998: 3941553, 1999: 3959417}\n",
      " \n",
      "{1: 3232517, 2: 3018140, 3: 3322069, 4: 3185314, 5: 3350907, 6: 3296530, 7: 3498783, 8: 3525858, 9: 3439698, 10: 3378814, 11: 3171647, 12: 3301860}\n",
      " \n",
      "{1: 1276557, 2: 1288739, 3: 1304499, 4: 1288154, 5: 1299953, 6: 1304474, 7: 1310459, 8: 1312297, 9: 1303292, 10: 1320764, 11: 1314361, 12: 1318437, 13: 1277684, 14: 1320153, 15: 1319171, 16: 1315192, 17: 1324953, 18: 1326855, 19: 1318727, 20: 1324821, 21: 1322897, 22: 1317381, 23: 1293290, 24: 1288083, 25: 1272116, 26: 1284796, 27: 1294395, 28: 1307685, 29: 1223161, 30: 1202095, 31: 746696}\n",
      " \n",
      "{1: 5789166, 2: 6446196, 3: 6322855, 4: 6288429, 5: 6233657, 6: 4562111, 7: 4079723}\n"
     ]
    }
   ],
   "source": [
    "def calc_counts(data, column):\n",
    "    '''Takes the data from read_csv and returns a dictionary compiling data from any given column.\n",
    "    Column 0: Year\n",
    "    Column 1: Month\n",
    "    Column 2: Date\n",
    "    Column 3: Day of week\n",
    "    Column 4: Births (For reference)\n",
    "    '''\n",
    "    final_dict = {}\n",
    "    for elem in data:\n",
    "        if elem[column] not in final_dict:\n",
    "            final_dict[elem[column]] = elem[4]\n",
    "        else:\n",
    "            final_dict[elem[column]] += elem[4]\n",
    "    return final_dict\n",
    "\n",
    "# births per year\n",
    "cdc_year_births = calc_counts(cdc_list, 0)\n",
    "print(cdc_year_births)\n",
    "print(\" \")\n",
    "#births per month\n",
    "cdc_month_births = calc_counts(cdc_list, 1)\n",
    "print(cdc_month_births)\n",
    "print(\" \")\n",
    "# births per day of month\n",
    "cdc_dom_births = calc_counts(cdc_list, 2)\n",
    "print(cdc_dom_births)\n",
    "print(\" \")\n",
    "# births per day of week\n",
    "cdc_dow_births = calc_counts(cdc_list, 3)\n",
    "print(cdc_dow_births)"
   ]
  },
  {
   "cell_type": "code",
   "execution_count": 7,
   "metadata": {
    "collapsed": false
   },
   "outputs": [
    {
     "name": "stdout",
     "output_type": "stream",
     "text": [
      "Min:3880894 at 1997 - Max:4089950 at 2003\n",
      "Min:3018140 at 2 - Max:3525858 at 8\n",
      "Min:746696 at 31 - Max:1326855 at 18\n",
      "Min:4079723 at 7 - Max:6446196 at 2\n"
     ]
    }
   ],
   "source": [
    "def min_max(data_dict):\n",
    "    '''Calculates the minimum and maximum values for any dictionary passed through'''\n",
    "    value_list = []\n",
    "    minimum_val = 9999999999999999999999999999\n",
    "    maximum_val = 0\n",
    "    max_key = 0\n",
    "    min_key = 0\n",
    "    for key in data_dict:\n",
    "        if data_dict[key] >= maximum_val:\n",
    "            maximum_val = data_dict[key]\n",
    "            max_key = key\n",
    "        if data_dict[key] <= minimum_val:\n",
    "            minimum_val = data_dict[key]\n",
    "            min_key = key\n",
    "    print(\"Min:{0} at {1} - Max:{2} at {3}\".format(minimum_val, min_key, maximum_val, max_key))\n",
    "        \n",
    "min_max(cdc_year_births)\n",
    "min_max(cdc_month_births)\n",
    "min_max(cdc_dom_births)\n",
    "min_max(cdc_dow_births)"
   ]
  },
  {
   "cell_type": "code",
   "execution_count": 26,
   "metadata": {
    "collapsed": false
   },
   "outputs": [
    {
     "name": "stdout",
     "output_type": "stream",
     "text": [
      "[(1994, 339736), (1995, 328503), (1996, 322581), (1997, 321212), (1998, 329436), (1999, 332939), (2000, 340553), (2001, 338684), (2002, 331505), (2003, 336920)]\n",
      " \n",
      "[(1994, 126213), (1995, 126834), (1996, 126145), (1997, 132879), (1998, 131142), (1999, 128608), (2000, 132060), (2001, 128107), (2002, 130009), (2003, 142502)]\n",
      " \n",
      "[(1994, 614641), (1995, 611410), (1996, 607883), (1997, 605274), (1998, 608402), (1999, 624604), (2000, 637657), (2001, 640380), (2002, 638827), (2003, 644579)]\n"
     ]
    }
   ],
   "source": [
    "def year_comp(data_list, column, spec_value):\n",
    "    '''Shows yearly changes between births for a specified (spec_value) month, date, and day of the week\n",
    "    Column 0: Year\n",
    "    Column 1: Month - spec_value: 1-12\n",
    "    Column 2: Date - spec_value: 1-31\n",
    "    Column 3: Day of week - spec_value: 1-7\n",
    "    Column 4: Births (For reference)'''\n",
    "    final_dict = {}\n",
    "    tup_list = []\n",
    "    for elem in data_list:\n",
    "        # checks if year is in dictionary\n",
    "        if elem[0] not in final_dict:\n",
    "            # checks if the column being scanned matches with the specified value\n",
    "            if elem[column] == spec_value:\n",
    "                final_dict[elem[0]] = elem[4]\n",
    "        else:\n",
    "            if elem[column] == spec_value:\n",
    "                final_dict[elem[0]] += elem[4]\n",
    "    # outputs the dictionary as a sorted list of tuples\n",
    "    for k in final_dict:\n",
    "        tup_list.append((k, final_dict[k]))\n",
    "    return sorted(tup_list, key=lambda k:k[0])\n",
    "\n",
    "# number of births in March from 1994-2003\n",
    "print(year_comp(cdc_list, 1, 3))\n",
    "print(\" \")\n",
    "# number of births on the 3rd of the month\n",
    "print(year_comp(cdc_list, 2, 3))\n",
    "print(\" \")\n",
    "# number of births on a Friday\n",
    "print(year_comp(cdc_list, 3, 5))"
   ]
  },
  {
   "cell_type": "code",
   "execution_count": null,
   "metadata": {
    "collapsed": true
   },
   "outputs": [],
   "source": [
    ""
   ]
  }
 ],
 "metadata": {
  "anaconda-cloud": {},
  "kernelspec": {
   "display_name": "Python 3",
   "language": "python",
   "name": "python3"
  },
  "language_info": {
   "codemirror_mode": {
    "name": "ipython",
    "version": 3.0
   },
   "file_extension": ".py",
   "mimetype": "text/x-python",
   "name": "python",
   "nbconvert_exporter": "python",
   "pygments_lexer": "ipython3",
   "version": "3.4.3"
  }
 },
 "nbformat": 4,
 "nbformat_minor": 0
}